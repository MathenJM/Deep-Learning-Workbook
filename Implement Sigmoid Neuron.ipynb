{
 "cells": [
  {
   "cell_type": "code",
   "execution_count": 25,
   "metadata": {},
   "outputs": [],
   "source": [
    "import numpy as np\n",
    "import sklearn.datasets\n",
    "from sklearn.model_selection import train_test_split\n",
    "from sklearn.preprocessing import StandardScaler\n",
    "from sklearn.metrics import accuracy_score"
   ]
  },
  {
   "cell_type": "code",
   "execution_count": 26,
   "metadata": {},
   "outputs": [],
   "source": [
    "breast_cancer = sklearn.datasets.load_breast_cancer()\n",
    "\n",
    "X = breast_cancer.data\n",
    "Y = breast_cancer.target\n",
    "\n",
    "scaler = StandardScaler()\n",
    "X = scaler.fit_transform(X)\n",
    "\n",
    "X_train, X_test, Y_train, Y_test = train_test_split(X, Y, test_size=0.1, stratify = Y, random_state=1)"
   ]
  },
  {
   "cell_type": "code",
   "execution_count": 27,
   "metadata": {},
   "outputs": [],
   "source": [
    "def perceptron(w, b, x):\n",
    "    return np.dot(x, w.T) + b\n",
    "\n",
    "def sigmoid(x):\n",
    "    return 1.0/(1.0 + np.exp(-x))\n",
    "\n",
    "def grad_w(w, b, x, y):\n",
    "    y_pred = sigmoid(perceptron(w, b, x))\n",
    "    return (y_pred - y) * y_pred * (1 - y_pred) * x\n",
    "\n",
    "def grad_b(w, b, x, y):\n",
    "    y_pred = sigmoid(perceptron(w, b, x))\n",
    "    return (y_pred - y) * y_pred * (1 - y_pred)\n",
    "\n",
    "def fit(X, Y, epochs=1, learning_rate=1, initialise=True):\n",
    "    if initialise:\n",
    "        w = np.random.randn(1, X.shape[1])\n",
    "        b = 0\n",
    "    \n",
    "    for i in range(epochs):\n",
    "        dw = 0\n",
    "        db = 0\n",
    "        for x, y in zip(X, Y):\n",
    "            dw += grad_w(w, b, x, y)\n",
    "            db += grad_b(w, b, x, y)       \n",
    "        w -= learning_rate * dw\n",
    "        b -= learning_rate * db\n",
    "    return w, b\n",
    "\n",
    "def predict(w,b,X):\n",
    "    Y = []\n",
    "    for x in X:\n",
    "        if sigmoid(perceptron(w, b, x))> 0.5:\n",
    "            result=1\n",
    "        else:\n",
    "            result=0\n",
    "        Y.append(result)\n",
    "    return np.array(Y)"
   ]
  },
  {
   "cell_type": "code",
   "execution_count": 28,
   "metadata": {},
   "outputs": [],
   "source": [
    "w,b=fit(X_train,Y_train,100,.25)\n",
    "Y_pred = predict(w,b,X_test)"
   ]
  },
  {
   "cell_type": "code",
   "execution_count": 29,
   "metadata": {},
   "outputs": [
    {
     "name": "stdout",
     "output_type": "stream",
     "text": [
      "0.9649122807017544\n"
     ]
    }
   ],
   "source": [
    "accuracy_test = accuracy_score(Y_pred, Y_test)\n",
    "print(accuracy_test)"
   ]
  }
 ],
 "metadata": {
  "kernelspec": {
   "display_name": "Python 3 (ipykernel)",
   "language": "python",
   "name": "python3"
  },
  "language_info": {
   "codemirror_mode": {
    "name": "ipython",
    "version": 3
   },
   "file_extension": ".py",
   "mimetype": "text/x-python",
   "name": "python",
   "nbconvert_exporter": "python",
   "pygments_lexer": "ipython3",
   "version": "3.9.7"
  }
 },
 "nbformat": 4,
 "nbformat_minor": 4
}
