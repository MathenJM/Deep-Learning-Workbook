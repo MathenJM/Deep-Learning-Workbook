{
 "cells": [
  {
   "cell_type": "code",
   "execution_count": 36,
   "metadata": {},
   "outputs": [],
   "source": [
    "import tensorflow as tf\n",
    " \n",
    "data = tf.keras.datasets.cifar10\n",
    "classes = ('plane', 'car', 'bird', 'cat', 'deer', 'dog', 'frog', 'horse', 'ship', 'truck')\n",
    "(x_train, y_train), (x_test, y_test) = data.load_data()\n",
    "\n",
    "x_train = x_train.astype('float32') /255\n",
    "x_test = x_test.astype('float32') /255 "
   ]
  },
  {
   "cell_type": "code",
   "execution_count": 37,
   "metadata": {
    "scrolled": true
   },
   "outputs": [
    {
     "name": "stdout",
     "output_type": "stream",
     "text": [
      "[6]\n"
     ]
    },
    {
     "data": {
      "image/png": "[encoded data removed]",
      "text/plain": [
       "<Figure size 72x72 with 1 Axes>"
      ]
     },
     "metadata": {
      "needs_background": "light"
     },
     "output_type": "display_data"
    }
   ],
   "source": [
    "import matplotlib.pyplot as plt\n",
    "plt.figure(figsize = (1,1))\n",
    "plt.imshow(x_train[0])\n",
    "print(y_train[0])"
   ]
  },
  {
   "cell_type": "code",
   "execution_count": null,
   "metadata": {},
   "outputs": [],
   "source": []
  },
  {
   "cell_type": "code",
   "execution_count": 42,
   "metadata": {},
   "outputs": [
    {
     "name": "stdout",
     "output_type": "stream",
     "text": [
      "Epoch 1/30\n",
      "1563/1563 [==============================] - 70s 44ms/step - loss: 1.6302 - accuracy: 0.4045\n",
      "Epoch 2/30\n",
      "1563/1563 [==============================] - 73s 47ms/step - loss: 1.3294 - accuracy: 0.5243\n",
      "Epoch 3/30\n",
      "1563/1563 [==============================] - 74s 47ms/step - loss: 1.2086 - accuracy: 0.5718\n",
      "Epoch 4/30\n",
      "1563/1563 [==============================] - 75s 48ms/step - loss: 1.1143 - accuracy: 0.6103\n",
      "Epoch 5/30\n",
      "1563/1563 [==============================] - 74s 47ms/step - loss: 1.0546 - accuracy: 0.6307\n",
      "Epoch 6/30\n",
      "1563/1563 [==============================] - 74s 47ms/step - loss: 1.0026 - accuracy: 0.6463\n",
      "Epoch 7/30\n",
      "1563/1563 [==============================] - 74s 47ms/step - loss: 0.9603 - accuracy: 0.6632\n",
      "Epoch 8/30\n",
      "1563/1563 [==============================] - 81s 52ms/step - loss: 0.9290 - accuracy: 0.6764\n",
      "Epoch 9/30\n",
      "1563/1563 [==============================] - 82s 52ms/step - loss: 0.8931 - accuracy: 0.6872\n",
      "Epoch 10/30\n",
      "1563/1563 [==============================] - 87s 56ms/step - loss: 0.8623 - accuracy: 0.6972\n",
      "Epoch 11/30\n",
      "1563/1563 [==============================] - 70s 45ms/step - loss: 0.8413 - accuracy: 0.7049\n",
      "Epoch 12/30\n",
      "1563/1563 [==============================] - 70s 45ms/step - loss: 0.8209 - accuracy: 0.7109\n",
      "Epoch 13/30\n",
      "1563/1563 [==============================] - 70s 45ms/step - loss: 0.7908 - accuracy: 0.7223\n",
      "Epoch 14/30\n",
      "1563/1563 [==============================] - 70s 45ms/step - loss: 0.7787 - accuracy: 0.7265\n",
      "Epoch 15/30\n",
      "1563/1563 [==============================] - 72s 46ms/step - loss: 0.7491 - accuracy: 0.7365\n",
      "Epoch 16/30\n",
      "1563/1563 [==============================] - 95s 61ms/step - loss: 0.7379 - accuracy: 0.7401\n",
      "Epoch 17/30\n",
      "1563/1563 [==============================] - 86s 55ms/step - loss: 0.7115 - accuracy: 0.7496\n",
      "Epoch 18/30\n",
      "1563/1563 [==============================] - 84s 54ms/step - loss: 0.6997 - accuracy: 0.7551\n",
      "Epoch 19/30\n",
      "1563/1563 [==============================] - 80s 51ms/step - loss: 0.6824 - accuracy: 0.7601\n",
      "Epoch 20/30\n",
      "1563/1563 [==============================] - 80s 51ms/step - loss: 0.6712 - accuracy: 0.7629\n",
      "Epoch 21/30\n",
      "1563/1563 [==============================] - 83s 53ms/step - loss: 0.6571 - accuracy: 0.7676\n",
      "Epoch 22/30\n",
      "1563/1563 [==============================] - 79s 50ms/step - loss: 0.6469 - accuracy: 0.7717\n",
      "Epoch 23/30\n",
      "1563/1563 [==============================] - 82s 52ms/step - loss: 0.6298 - accuracy: 0.7794\n",
      "Epoch 24/30\n",
      "1563/1563 [==============================] - 79s 50ms/step - loss: 0.6169 - accuracy: 0.7821\n",
      "Epoch 25/30\n",
      "1563/1563 [==============================] - 78s 50ms/step - loss: 0.6082 - accuracy: 0.7852\n",
      "Epoch 26/30\n",
      "1563/1563 [==============================] - 77s 49ms/step - loss: 0.6031 - accuracy: 0.7873\n",
      "Epoch 27/30\n",
      "1563/1563 [==============================] - 77s 49ms/step - loss: 0.5878 - accuracy: 0.7929\n",
      "Epoch 28/30\n",
      "1563/1563 [==============================] - 77s 49ms/step - loss: 0.5806 - accuracy: 0.7960\n",
      "Epoch 29/30\n",
      "1563/1563 [==============================] - 78s 50ms/step - loss: 0.5679 - accuracy: 0.8008\n",
      "Epoch 30/30\n",
      "1563/1563 [==============================] - 81s 52ms/step - loss: 0.5646 - accuracy: 0.8021\n"
     ]
    },
    {
     "data": {
      "text/plain": [
       "<keras.callbacks.History at 0x1e78a20d670>"
      ]
     },
     "execution_count": 42,
     "metadata": {},
     "output_type": "execute_result"
    }
   ],
   "source": [
    "model = tf.keras.models.Sequential()\n",
    "\n",
    "model.add(tf.keras.layers.Conv2D(32, (3, 3), activation='relu', input_shape=(32, 32, 3)))\n",
    "model.add(tf.keras.layers.MaxPooling2D((2, 2)))\n",
    "model.add(tf.keras.layers.Conv2D(16, (3, 3), activation='relu', input_shape=(32, 32, 3)))\n",
    "model.add(tf.keras.layers.MaxPooling2D((2, 2)))\n",
    "model.add(tf.keras.layers.Flatten())\n",
    "model.add(tf.keras.layers.Dense(512, activation='relu'))\n",
    "model.add(tf.keras.layers.Dropout(0.5))\n",
    "model.add(tf.keras.layers.Dense(512, activation='relu'))\n",
    "model.add(tf.keras.layers.Dropout(0.5))\n",
    "model.add(tf.keras.layers.Dense(10, activation='softmax'))\n",
    "\n",
    "model.compile(optimizer='adam',\n",
    "              loss='sparse_categorical_crossentropy',\n",
    "              metrics=['accuracy'])\n",
    "\n",
    "model.fit(x_train, y_train, epochs=30)"
   ]
  },
  {
   "cell_type": "code",
   "execution_count": 46,
   "metadata": {},
   "outputs": [
    {
     "name": "stdout",
     "output_type": "stream",
     "text": [
      "313/313 [==============================] - 4s 12ms/step - loss: 0.9586 - accuracy: 0.6829\n",
      "0.9585935473442078 0.6829000115394592\n"
     ]
    }
   ],
   "source": [
    "val_loss, val_acc = model.evaluate(x_test, y_test)\n",
    "print(val_loss, val_acc)"
   ]
  },
  {
   "cell_type": "code",
   "execution_count": 47,
   "metadata": {},
   "outputs": [
    {
     "name": "stdout",
     "output_type": "stream",
     "text": [
      "313/313 [==============================] - 4s 12ms/step\n",
      "3\n"
     ]
    }
   ],
   "source": [
    "predictions = model.predict([x_test])\n",
    "import numpy as np\n",
    "print(np.argmax(predictions[0]))"
   ]
  },
  {
   "cell_type": "code",
   "execution_count": 48,
   "metadata": {},
   "outputs": [
    {
     "data": {
      "image/png": "[encoded data removed]",
      "text/plain": [
       "<Figure size 72x72 with 1 Axes>"
      ]
     },
     "metadata": {
      "needs_background": "light"
     },
     "output_type": "display_data"
    },
    {
     "data": {
      "text/plain": [
       "'cat'"
      ]
     },
     "execution_count": 48,
     "metadata": {},
     "output_type": "execute_result"
    }
   ],
   "source": [
    "plt.figure(figsize = (1,1))\n",
    "plt.imshow(x_test[0])\n",
    "plt.show()\n",
    "classes[np.argmax(predictions[0])]"
   ]
  },
  {
   "cell_type": "code",
   "execution_count": null,
   "metadata": {},
   "outputs": [],
   "source": []
  }
 ],
 "metadata": {
  "accelerator": "GPU",
  "colab": {
   "collapsed_sections": [],
   "name": "0427_PyTorchCNN.ipynb",
   "provenance": [],
   "version": "0.3.2"
  },
  "kernelspec": {
   "display_name": "Python 3 (ipykernel)",
   "language": "python",
   "name": "python3"
  },
  "language_info": {
   "codemirror_mode": {
    "name": "ipython",
    "version": 3
   },
   "file_extension": ".py",
   "mimetype": "text/x-python",
   "name": "python",
   "nbconvert_exporter": "python",
   "pygments_lexer": "ipython3",
   "version": "3.9.7"
  }
 },
 "nbformat": 4,
 "nbformat_minor": 1
}
